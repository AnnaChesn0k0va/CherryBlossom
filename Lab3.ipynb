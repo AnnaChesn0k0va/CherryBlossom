{
  "nbformat": 4,
  "nbformat_minor": 0,
  "metadata": {
    "colab": {
      "provenance": [],
      "authorship_tag": "ABX9TyOJNcJuwN+G/njuJdnQwiht",
      "include_colab_link": true
    },
    "kernelspec": {
      "name": "python3",
      "display_name": "Python 3"
    },
    "language_info": {
      "name": "python"
    }
  },
  "cells": [
    {
      "cell_type": "markdown",
      "metadata": {
        "id": "view-in-github",
        "colab_type": "text"
      },
      "source": [
        "<a href=\"https://colab.research.google.com/github/AnnaChesn0k0va/Lab1/blob/main/Lab3.ipynb\" target=\"_parent\"><img src=\"https://colab.research.google.com/assets/colab-badge.svg\" alt=\"Open In Colab\"/></a>"
      ]
    },
    {
      "cell_type": "code",
      "execution_count": 5,
      "metadata": {
        "colab": {
          "base_uri": "https://localhost:8080/"
        },
        "id": "ttyH5vyTb6d4",
        "outputId": "5ca8c6c0-8096-4f83-85bc-1ea80256de77"
      },
      "outputs": [
        {
          "output_type": "stream",
          "name": "stdout",
          "text": [
            "45\n"
          ]
        }
      ],
      "source": [
        "def f(b):\n",
        "    global s\n",
        "    s=0\n",
        "    for i in range(len(b)):\n",
        "        s+=a[i]\n",
        "    return s\n",
        "a=[0,1,2,3,4,5,6,7,8,9]\n",
        "print(f(a))"
      ]
    },
    {
      "cell_type": "code",
      "source": [
        "def f(b):\n",
        "    global n\n",
        "    n=0\n",
        "    for i in range(len(b)):\n",
        "        if b[i]==0:\n",
        "            n+=1\n",
        "    return n\n",
        "a=[0,1,2,3,4,5,6,7,8,9]\n",
        "print(f(a))"
      ],
      "metadata": {
        "colab": {
          "base_uri": "https://localhost:8080/"
        },
        "id": "NngNeWuOb7j6",
        "outputId": "cbc26d8b-9cb2-4606-d674-954091d99c8d"
      },
      "execution_count": 4,
      "outputs": [
        {
          "output_type": "stream",
          "name": "stdout",
          "text": [
            "1\n"
          ]
        }
      ]
    },
    {
      "cell_type": "code",
      "source": [
        "n=int(input(\"Введите количество ступенек \"))\n",
        "for i in range(1,n+1):\n",
        "    for j in range(i):\n",
        "        print(j+1, end='')\n",
        "    print()"
      ],
      "metadata": {
        "colab": {
          "base_uri": "https://localhost:8080/"
        },
        "id": "wndUXLOqcEQX",
        "outputId": "52867cd9-b00f-41b3-b960-c27315943b95"
      },
      "execution_count": 2,
      "outputs": [
        {
          "output_type": "stream",
          "name": "stdout",
          "text": [
            "Введите количество ступенек 5\n",
            "1\n",
            "12\n",
            "123\n",
            "1234\n",
            "12345\n"
          ]
        }
      ]
    },
    {
      "cell_type": "code",
      "source": [
        "n=int(input(\"Введите количество ступенек пирамиды \"))\n",
        "for i in range(n+1):\n",
        "    for j in range(n+1,0,-1):\n",
        "        if j<=i:\n",
        "            print(i-j+1, end='')\n",
        "\n",
        "        else:\n",
        "            print(\" \", end='')\n",
        "    for j in range(i-1):\n",
        "        if j<=i:\n",
        "            print(i-j-1, end='')\n",
        "\n",
        "        else:\n",
        "            print(\" \", end='')\n",
        "    print()\n",
        "  "
      ],
      "metadata": {
        "colab": {
          "base_uri": "https://localhost:8080/"
        },
        "id": "9HT3qYgAcIXk",
        "outputId": "6e57ae5f-86dd-4009-8693-23714876fda1"
      },
      "execution_count": 1,
      "outputs": [
        {
          "output_type": "stream",
          "name": "stdout",
          "text": [
            "Введите количество ступенек пирамиды 6\n",
            "       \n",
            "      1\n",
            "     121\n",
            "    12321\n",
            "   1234321\n",
            "  123454321\n",
            " 12345654321\n"
          ]
        }
      ]
    }
  ]
}